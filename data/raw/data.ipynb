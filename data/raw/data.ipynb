{
 "cells": [
  {
   "cell_type": "code",
   "execution_count": null,
   "id": "aa7c46ab",
   "metadata": {},
   "outputs": [],
   "source": [
    "import pandas as pd\n",
    "\n",
    "splits = {'train': 'dbpedia_14/train-00000-of-00001.parquet', 'test': 'dbpedia_14/test-00000-of-00001.parquet'}\n",
    "df_train = pd.read_parquet(\"hf://datasets/fancyzhx/dbpedia_14/\" + splits[\"train\"])\n",
    "df_test = pd.read_parquet(\"hf://datasets/fancyzhx/dbpedia_14/\" + splits[\"test\"])"
   ]
  },
  {
   "cell_type": "code",
   "execution_count": null,
   "id": "582984b5",
   "metadata": {},
   "outputs": [],
   "source": [
    "df_train.to_csv(\"train.csv\")\n",
    "df_test.to_csv(\"test.csv\")"
   ]
  }
 ],
 "metadata": {
  "kernelspec": {
   "display_name": "userk",
   "language": "python",
   "name": "python3"
  },
  "language_info": {
   "name": "python",
   "version": "3.9.21"
  }
 },
 "nbformat": 4,
 "nbformat_minor": 5
}
