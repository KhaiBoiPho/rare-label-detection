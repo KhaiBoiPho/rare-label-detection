{
 "cells": [
  {
   "cell_type": "code",
   "execution_count": 14,
   "id": "844de098",
   "metadata": {},
   "outputs": [],
   "source": [
    "import transformers\n",
    "transformers.utils.logging.set_verbosity_error()"
   ]
  },
  {
   "cell_type": "code",
   "execution_count": null,
   "id": "3f86e217",
   "metadata": {},
   "outputs": [],
   "source": [
    "from sentence_transformers import SentenceTransformer, util\n",
    "import pandas as pd\n",
    "import numpy as np\n",
    "import torch\n",
    "from transformers import AutoTokenizer\n",
    "import torch.nn.functional as F\n",
    "import torch.nn as nn\n",
    "import re\n",
    "import umap\n",
    "import hdbscan\n",
    "from sklearn.model_selection import train_test_split\n",
    "from torch.utils.data import TensorDataset, DataLoader\n",
    "import seaborn as sns\n",
    "import matplotlib.pyplot as plt\n",
    "from sklearn.manifold import TSNE\n",
    "from sklearn.metrics import classification_report, confusion_matrix\n",
    "from sklearn.neighbors import NearestNeighbors"
   ]
  },
  {
   "cell_type": "code",
   "execution_count": null,
   "id": "cdccf38f",
   "metadata": {},
   "outputs": [],
   "source": [
    "df = pd.read_csv(\"data/raw/train.csv\")"
   ]
  },
  {
   "cell_type": "code",
   "execution_count": null,
   "id": "aafe7d46",
   "metadata": {},
   "outputs": [],
   "source": [
    "df[\"text\"] = \"Title:\\n\" + df[\"title\"] + \"\\nContent:\\n\" + df[\"content\"]\n",
    "df[\"id\"] = range(1, len(df) + 1)\n",
    "df = df.drop(columns={\"title\", \"content\"})\n",
    "df.head()"
   ]
  },
  {
   "cell_type": "code",
   "execution_count": null,
   "id": "30937039",
   "metadata": {},
   "outputs": [],
   "source": [
    "ids = df[\"id\"].tolist()\n",
    "texts = df[\"text\"].tolist()"
   ]
  },
  {
   "cell_type": "code",
   "execution_count": null,
   "id": "4da71bf3",
   "metadata": {},
   "outputs": [],
   "source": [
    "df0 = df[df[\"label\"] == 0]\n",
    "df1 = df[df[\"label\"] == 1]\n",
    "df2 = df[df[\"label\"] == 2]\n",
    "df3 = df[df[\"label\"] == 3]\n",
    "df4 = df[df[\"label\"] == 4]\n",
    "df5 = df[df[\"label\"] == 5]\n",
    "df6 = df[df[\"label\"] == 6]\n",
    "df7 = df[df[\"label\"] == 7]\n",
    "df8 = df[df[\"label\"] == 8]\n",
    "df9 = df[df[\"label\"] == 9]\n",
    "df10 = df[df[\"label\"] == 10]\n",
    "df11 = df[df[\"label\"] == 11]\n",
    "df12 = df[df[\"label\"] == 12]\n",
    "df13 = df[df[\"label\"] == 13]"
   ]
  },
  {
   "cell_type": "code",
   "execution_count": null,
   "id": "fc3b24bb",
   "metadata": {},
   "outputs": [],
   "source": [
    "df5 = df5.groupby(\"label\", group_keys=False).apply(\n",
    "    lambda g: g.sample(frac=0.9, random_state=42)\n",
    ")\n",
    "df6 = df6.groupby(\"label\", group_keys=False).apply(\n",
    "    lambda g: g.sample(frac=0.8, random_state=42)\n",
    ")\n",
    "df7 = df7.groupby(\"label\", group_keys=False).apply(\n",
    "    lambda g: g.sample(frac=0.8, random_state=42)\n",
    ")\n",
    "df8 = df8.groupby(\"label\", group_keys=False).apply(\n",
    "    lambda g: g.sample(frac=0.2, random_state=42)\n",
    ")\n",
    "df9 = df9.groupby(\"label\", group_keys=False).apply(\n",
    "    lambda g: g.sample(frac=0.1, random_state=42)\n",
    ")\n",
    "df10 = df10.groupby(\"label\", group_keys=False).apply(\n",
    "    lambda g: g.sample(frac=0.1, random_state=42)\n",
    ")\n",
    "df11 = df11.groupby(\"label\", group_keys=False).apply(\n",
    "    lambda g: g.sample(frac=0.1, random_state=42)\n",
    ")\n",
    "df12 = df12.groupby(\"label\", group_keys=False).apply(\n",
    "    lambda g: g.sample(frac=0.1, random_state=42)\n",
    ")\n",
    "df13 = df13.groupby(\"label\", group_keys=False).apply(\n",
    "    lambda g: g.sample(frac=0.1, random_state=42)\n",
    ")"
   ]
  },
  {
   "cell_type": "code",
   "execution_count": null,
   "id": "26741152",
   "metadata": {},
   "outputs": [],
   "source": [
    "df = pd.concat([df0, df1, df2, df3, df4, df5, df6, df7, df8, df9, df10, df11, df12, df13])\n",
    "df[\"label\"].value_counts()"
   ]
  },
  {
   "cell_type": "code",
   "execution_count": null,
   "id": "735ff57e",
   "metadata": {},
   "outputs": [],
   "source": [
    "df.to_csv(\"train.csv\")"
   ]
  },
  {
   "cell_type": "code",
   "execution_count": null,
   "id": "2e35edc0",
   "metadata": {},
   "outputs": [],
   "source": [
    "df_test = pd.read_csv(\"data/raw/test.csv\")"
   ]
  },
  {
   "cell_type": "code",
   "execution_count": null,
   "id": "fac26d78",
   "metadata": {},
   "outputs": [],
   "source": [
    "df_test[\"text\"] = \"Title:\\n\" + df_test[\"title\"] + \"\\nContent:\\n\" + df_test[\"content\"]\n",
    "df_test[\"id\"] = range(1, len(df) + 1)\n",
    "df_test = df_test.drop(columns={\"title\", \"content\"})\n",
    "df_test.head()"
   ]
  },
  {
   "cell_type": "code",
   "execution_count": null,
   "id": "7ecdb36d",
   "metadata": {},
   "outputs": [],
   "source": [
    "df_test.to_csv(\"test.csv\")"
   ]
  }
 ],
 "metadata": {
  "kernelspec": {
   "display_name": "userk",
   "language": "python",
   "name": "python3"
  },
  "language_info": {
   "codemirror_mode": {
    "name": "ipython",
    "version": 3
   },
   "file_extension": ".py",
   "mimetype": "text/x-python",
   "name": "python",
   "nbconvert_exporter": "python",
   "pygments_lexer": "ipython3",
   "version": "3.9.21"
  }
 },
 "nbformat": 4,
 "nbformat_minor": 5
}
